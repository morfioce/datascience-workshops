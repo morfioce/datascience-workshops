{
 "cells": [
  {
   "cell_type": "markdown",
   "metadata": {},
   "source": [
    "# Exploratory data analysis\n",
    "\n",
    "Exploratory data analysis (EDA), is a crucial component of any data science project, and pandas has powerful methods that help with statistical and visual EDA."
   ]
  },
  {
   "cell_type": "markdown",
   "metadata": {},
   "source": [
    "## Pandas line plots"
   ]
  },
  {
   "cell_type": "code",
   "execution_count": 12,
   "metadata": {
    "collapsed": false
   },
   "outputs": [
    {
     "data": {
      "text/html": [
       "<div>\n",
       "<table border=\"1\" class=\"dataframe\">\n",
       "  <thead>\n",
       "    <tr style=\"text-align: right;\">\n",
       "      <th></th>\n",
       "      <th>Month</th>\n",
       "      <th>AAPL</th>\n",
       "      <th>GOOG</th>\n",
       "      <th>IBM</th>\n",
       "    </tr>\n",
       "  </thead>\n",
       "  <tbody>\n",
       "    <tr>\n",
       "      <th>0</th>\n",
       "      <td>Jan</td>\n",
       "      <td>117.160004</td>\n",
       "      <td>534.522445</td>\n",
       "      <td>153.309998</td>\n",
       "    </tr>\n",
       "    <tr>\n",
       "      <th>1</th>\n",
       "      <td>Feb</td>\n",
       "      <td>128.460007</td>\n",
       "      <td>558.402511</td>\n",
       "      <td>161.940002</td>\n",
       "    </tr>\n",
       "    <tr>\n",
       "      <th>2</th>\n",
       "      <td>Mar</td>\n",
       "      <td>124.430000</td>\n",
       "      <td>548.002468</td>\n",
       "      <td>160.500000</td>\n",
       "    </tr>\n",
       "    <tr>\n",
       "      <th>3</th>\n",
       "      <td>Apr</td>\n",
       "      <td>125.150002</td>\n",
       "      <td>537.340027</td>\n",
       "      <td>171.289993</td>\n",
       "    </tr>\n",
       "    <tr>\n",
       "      <th>4</th>\n",
       "      <td>May</td>\n",
       "      <td>130.279999</td>\n",
       "      <td>532.109985</td>\n",
       "      <td>169.649994</td>\n",
       "    </tr>\n",
       "    <tr>\n",
       "      <th>5</th>\n",
       "      <td>Jun</td>\n",
       "      <td>125.430000</td>\n",
       "      <td>520.510010</td>\n",
       "      <td>162.660004</td>\n",
       "    </tr>\n",
       "    <tr>\n",
       "      <th>6</th>\n",
       "      <td>Jul</td>\n",
       "      <td>121.300003</td>\n",
       "      <td>625.609985</td>\n",
       "      <td>161.990005</td>\n",
       "    </tr>\n",
       "    <tr>\n",
       "      <th>7</th>\n",
       "      <td>Aug</td>\n",
       "      <td>112.760002</td>\n",
       "      <td>618.250000</td>\n",
       "      <td>147.889999</td>\n",
       "    </tr>\n",
       "    <tr>\n",
       "      <th>8</th>\n",
       "      <td>Sep</td>\n",
       "      <td>110.300003</td>\n",
       "      <td>608.419983</td>\n",
       "      <td>144.970001</td>\n",
       "    </tr>\n",
       "    <tr>\n",
       "      <th>9</th>\n",
       "      <td>Oct</td>\n",
       "      <td>119.500000</td>\n",
       "      <td>710.809998</td>\n",
       "      <td>140.080002</td>\n",
       "    </tr>\n",
       "    <tr>\n",
       "      <th>10</th>\n",
       "      <td>Nov</td>\n",
       "      <td>118.300003</td>\n",
       "      <td>742.599976</td>\n",
       "      <td>139.419998</td>\n",
       "    </tr>\n",
       "    <tr>\n",
       "      <th>11</th>\n",
       "      <td>Dec</td>\n",
       "      <td>105.260002</td>\n",
       "      <td>758.880005</td>\n",
       "      <td>137.619995</td>\n",
       "    </tr>\n",
       "  </tbody>\n",
       "</table>\n",
       "</div>"
      ],
      "text/plain": [
       "   Month        AAPL        GOOG         IBM\n",
       "0    Jan  117.160004  534.522445  153.309998\n",
       "1    Feb  128.460007  558.402511  161.940002\n",
       "2    Mar  124.430000  548.002468  160.500000\n",
       "3    Apr  125.150002  537.340027  171.289993\n",
       "4    May  130.279999  532.109985  169.649994\n",
       "5    Jun  125.430000  520.510010  162.660004\n",
       "6    Jul  121.300003  625.609985  161.990005\n",
       "7    Aug  112.760002  618.250000  147.889999\n",
       "8    Sep  110.300003  608.419983  144.970001\n",
       "9    Oct  119.500000  710.809998  140.080002\n",
       "10   Nov  118.300003  742.599976  139.419998\n",
       "11   Dec  105.260002  758.880005  137.619995"
      ]
     },
     "execution_count": 12,
     "metadata": {},
     "output_type": "execute_result"
    }
   ],
   "source": [
    "import pandas as pd\n",
    "        \n",
    "labels = ['Month', 'AAPL', 'GOOG', 'IBM']\n",
    "stock_data = [['Jan', 117.160004, 534.5224450000002, 153.309998],\n",
    "              ['Feb', 128.46000700000002, 558.402511, 161.940002],\n",
    "              ['Mar', 124.43, 548.002468, 160.5],\n",
    "              ['Apr', 125.150002, 537.340027, 171.28999299999995],\n",
    "              ['May', 130.279999, 532.1099849999998, 169.649994],\n",
    "              ['Jun', 125.43, 520.51001, 162.660004],\n",
    "              ['Jul', 121.300003, 625.6099849999998, 161.990005],\n",
    "              ['Aug', 112.760002, 618.25, 147.889999],\n",
    "              ['Sep', 110.300003, 608.419983, 144.970001],\n",
    "              ['Oct', 119.5, 710.8099980000002, 140.080002],\n",
    "              ['Nov', 118.300003, 742.599976, 139.419998],\n",
    "              ['Dec', 105.260002, 758.880005, 137.619995]]\n",
    "\n",
    "df = pd.DataFrame(stock_data)\n",
    "df.columns = labels\n",
    "df"
   ]
  },
  {
   "cell_type": "markdown",
   "metadata": {},
   "source": [
    "### import matplotlib.pyplot as plt\n",
    "# Create a list of y-axis column names: y_columns\n",
    "y_columns = ['IBM']\n",
    "\n",
    "# Generate a line plot\n",
    "df.plot(x='AAPL', y='IBM', kind='scatter')\n",
    "\n",
    "# Add the title\n",
    "plt.title('Monthly stock prices')\n",
    "\n",
    "# Add the y-axis label\n",
    "plt.ylabel('Price ($US)')\n",
    "\n",
    "# Display the plot\n",
    "plt.show()"
   ]
  },
  {
   "cell_type": "code",
   "execution_count": null,
   "metadata": {
    "collapsed": true
   },
   "outputs": [],
   "source": []
  }
 ],
 "metadata": {
  "kernelspec": {
   "display_name": "Python 3",
   "language": "python",
   "name": "python3"
  },
  "language_info": {
   "codemirror_mode": {
    "name": "ipython",
    "version": 3
   },
   "file_extension": ".py",
   "mimetype": "text/x-python",
   "name": "python",
   "nbconvert_exporter": "python",
   "pygments_lexer": "ipython3",
   "version": "3.6.0"
  }
 },
 "nbformat": 4,
 "nbformat_minor": 2
}
